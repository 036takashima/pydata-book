{
  "nbformat": 4,
  "nbformat_minor": 0,
  "metadata": {
    "colab": {
      "name": "template.ipynb",
      "provenance": [],
      "include_colab_link": true
    },
    "kernelspec": {
      "name": "python3",
      "display_name": "Python 3"
    },
    "language_info": {
      "name": "python"
    }
  },
  "cells": [
    {
      "cell_type": "markdown",
      "metadata": {
        "id": "view-in-github",
        "colab_type": "text"
      },
      "source": [
        "<a href=\"https://colab.research.google.com/github/036takashima/pydata-book/blob/1st-edition/template.ipynb\" target=\"_parent\"><img src=\"https://colab.research.google.com/assets/colab-badge.svg\" alt=\"Open In Colab\"/></a>"
      ]
    },
    {
      "cell_type": "code",
      "metadata": {
        "id": "9TpZXDLaPiOm"
      },
      "source": [
        ""
      ],
      "execution_count": null,
      "outputs": []
    },
    {
      "cell_type": "markdown",
      "metadata": {
        "id": "_vmpPN3nRn-2"
      },
      "source": [
        "# 0.前提作業\n",
        "## 0-1.Google Colabで開くファイルを決定する\n",
        "https://colab.research.google.com/github/\n",
        "へブラウザでアクセス\n",
        "\n"
      ]
    },
    {
      "cell_type": "markdown",
      "metadata": {
        "id": "xCKjcYezXG8z"
      },
      "source": [
        "## 0-2.Google ColabにGithubからファイルを取り込む\n",
        "\n",
        "対象とするリポジトリ： https://github.com/036takashima/Pandas-Cookbook-Second-Edition.git\n",
        "\n",
        "取り込む先: drive/MyDrive/ColabNotebooks/PandasCookbook\n",
        "\n",
        "### 0-2-1.Googleドライブをマウントする \n",
        "\n"
      ]
    },
    {
      "cell_type": "code",
      "metadata": {
        "colab": {
          "base_uri": "https://localhost:8080/"
        },
        "id": "hR1AXrRtsfJH",
        "outputId": "7e0bf15c-74bd-4fe7-b222-00211c53b5c0"
      },
      "source": [
        "from google.colab import drive \n",
        "drive.mount('/content/drive', force_remount=True)"
      ],
      "execution_count": 1,
      "outputs": [
        {
          "output_type": "stream",
          "name": "stdout",
          "text": [
            "Mounted at /content/drive\n"
          ]
        }
      ]
    },
    {
      "cell_type": "markdown",
      "metadata": {
        "id": "gO4YLsq2sTlS"
      },
      "source": [
        "### 0-2-2.ワークディレクトリへ移動する"
      ]
    },
    {
      "cell_type": "code",
      "metadata": {
        "colab": {
          "base_uri": "https://localhost:8080/"
        },
        "id": "P8kbX7MUXMQa",
        "outputId": "84586880-41a6-43db-a9a1-0af7a924ab7c"
      },
      "source": [
        "%cd /content/drive/MyDrive/ColabNotebooks/"
      ],
      "execution_count": 2,
      "outputs": [
        {
          "output_type": "stream",
          "name": "stdout",
          "text": [
            "/content/drive/MyDrive/ColabNotebooks\n"
          ]
        }
      ]
    },
    {
      "cell_type": "markdown",
      "metadata": {
        "id": "qLtTVycwoVjG"
      },
      "source": [
        "### 0-2-3.クローンする"
      ]
    },
    {
      "cell_type": "code",
      "metadata": {
        "id": "YhuIPl_UXoDH",
        "colab": {
          "base_uri": "https://localhost:8080/"
        },
        "outputId": "3df7c042-e610-4248-da31-8b77cfba9e4d"
      },
      "source": [
        "!git clone https://github.com/036takashima/pydata-book.git"
      ],
      "execution_count": 3,
      "outputs": [
        {
          "output_type": "stream",
          "name": "stdout",
          "text": [
            "Cloning into 'pydata-book'...\n",
            "remote: Enumerating objects: 461, done.\u001b[K\n",
            "remote: Counting objects: 100% (21/21), done.\u001b[K\n",
            "remote: Compressing objects: 100% (16/16), done.\u001b[K\n",
            "remote: Total 461 (delta 6), reused 12 (delta 4), pack-reused 440\u001b[K\n",
            "Receiving objects: 100% (461/461), 40.61 MiB | 8.98 MiB/s, done.\n",
            "Resolving deltas: 100% (143/143), done.\n",
            "Checking out files: 100% (210/210), done.\n"
          ]
        }
      ]
    },
    {
      "cell_type": "code",
      "metadata": {
        "id": "HOR3f-liR7hT"
      },
      "source": [
        ""
      ],
      "execution_count": null,
      "outputs": []
    }
  ]
}